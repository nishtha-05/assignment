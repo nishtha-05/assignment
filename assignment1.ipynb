{
 "cells": [
  {
   "cell_type": "code",
   "execution_count": 1,
   "id": "2d58319e-a110-4c1c-9a1b-86d0c749ee7a",
   "metadata": {},
   "outputs": [
    {
     "name": "stdout",
     "output_type": "stream",
     "text": [
      "1\n",
      "24\n",
      "78\n",
      "45\n",
      "9\n",
      "7\n"
     ]
    },
    {
     "name": "stdout",
     "output_type": "stream",
     "text": [
      " 7\n"
     ]
    },
    {
     "name": "stdout",
     "output_type": "stream",
     "text": [
      "1\n",
      "2\n",
      "3\n",
      "4\n",
      "5\n",
      "6\n",
      "7\n"
     ]
    }
   ],
   "source": [
    "1.#for loop is used when number of iterations are known and it increments automatically\n",
    "l=[1,24,78,45,9,7]\n",
    "for i in l:\n",
    "    print(i)\n",
    "    \n",
    "# while loop is used when number of iterations are not known and it does not increments automatically   \n",
    "n=int(input())\n",
    "i=1\n",
    "while(i<=n):\n",
    "    print(i)\n",
    "    i+=1"
   ]
  },
  {
   "cell_type": "code",
   "execution_count": 2,
   "id": "178b0b6d-aa9d-44cd-b5a4-9ca25dbf3329",
   "metadata": {},
   "outputs": [
    {
     "name": "stdout",
     "output_type": "stream",
     "text": [
      "55\n",
      "3628800\n"
     ]
    },
    {
     "name": "stdout",
     "output_type": "stream",
     "text": [
      " 10\n"
     ]
    },
    {
     "name": "stdout",
     "output_type": "stream",
     "text": [
      "55\n",
      "3628800\n"
     ]
    }
   ],
   "source": [
    "2.# sum and product program using of for loop\n",
    "res=0\n",
    "pro=1\n",
    "for i in range(1,11):\n",
    "    res=res+i\n",
    "    pro=pro*i\n",
    "print(res)\n",
    "print(pro)\n",
    "\n",
    "\n",
    "# sum and product program using of for loop\n",
    "n=int(input())\n",
    "res1=0\n",
    "pro1=1\n",
    "for i in range(1,11):\n",
    "    res1=res1+i\n",
    "    pro1=pro1*i\n",
    "print(res1)\n",
    "print(pro1)\n"
   ]
  },
  {
   "cell_type": "code",
   "execution_count": 3,
   "id": "4474d07c-59c4-4393-82c1-bc988f606662",
   "metadata": {},
   "outputs": [
    {
     "name": "stdout",
     "output_type": "stream",
     "text": [
      " 310\n"
     ]
    },
    {
     "name": "stdout",
     "output_type": "stream",
     "text": [
      "2250.0\n"
     ]
    }
   ],
   "source": [
    "3.# electricity bill program\n",
    "units=int(input())\n",
    "if(units<=100):\n",
    "    bill=units*4.5\n",
    "elif(units<=200):\n",
    "    bill=(100*4.5)+(units-100)*6\n",
    "elif (units<=300):\n",
    "    bill=(100*4.5)+(200-100)*6+(units-300)*10\n",
    "else:\n",
    "    bill=(100*4.5)+(200-100)*6+(300-200)*10+(units-300)*20\n",
    "print(bill)   "
   ]
  },
  {
   "cell_type": "code",
   "execution_count": null,
   "id": "4b3c52a7-e77b-4f07-9ff0-47941586ea54",
   "metadata": {},
   "outputs": [],
   "source": [
    "4.# cube divisibility program using for loop\n",
    "l=[]\n",
    "for i in range(1,101):\n",
    "    cube=i*i*i\n",
    "    if(cube % 4==0 or cube % 5==0):\n",
    "        l.append(cube)\n",
    "print(l)\n",
    "\n",
    "# cube divisibility program using while loop\n",
    "n=int(input())\n",
    "l1=[]\n",
    "i=1\n",
    "while(i<=n):\n",
    "    cube=i*i*i\n",
    "    if(cube % 4==0 or cube % 5==0):\n",
    "        l1.append(cube)\n",
    "    i=i+1\n",
    "print(l1)"
   ]
  },
  {
   "cell_type": "code",
   "execution_count": null,
   "id": "f2594b5e-3e9c-4425-a122-2b011ab9fa78",
   "metadata": {},
   "outputs": [],
   "source": [
    "5.#counting of vowels\n",
    "\n",
    "string = \"I want to become a data scientist\"\n",
    "count=0\n",
    "for i in range(len(string)):\n",
    "    if(string[i] == 'a' )or (string[i] == 'e' ) or (string[i] == 'i' )or (string[i] == 'o' ) or (string[i] == 'u' ) or(string[i] == 'A' ) or(string[i] == 'E' ) or(string[i] == 'I' ) or(string[i] == 'O' ) or(string[i] == 'U' ):\n",
    "        count=count+1\n",
    "print(count)        "
   ]
  }
 ],
 "metadata": {
  "kernelspec": {
   "display_name": "Python 3 (ipykernel)",
   "language": "python",
   "name": "python3"
  },
  "language_info": {
   "codemirror_mode": {
    "name": "ipython",
    "version": 3
   },
   "file_extension": ".py",
   "mimetype": "text/x-python",
   "name": "python",
   "nbconvert_exporter": "python",
   "pygments_lexer": "ipython3",
   "version": "3.10.8"
  }
 },
 "nbformat": 4,
 "nbformat_minor": 5
}
